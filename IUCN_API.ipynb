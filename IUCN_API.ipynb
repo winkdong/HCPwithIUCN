{
 "cells": [
  {
   "cell_type": "markdown",
   "metadata": {},
   "source": [
    "### Part1 Make function and class\n",
    "* Get Animal Species/Habitats/Threats/Conservation information from IUCN by scientific name"
   ]
  },
  {
   "cell_type": "code",
   "execution_count": 1,
   "metadata": {
    "collapsed": true
   },
   "outputs": [],
   "source": [
    "import requests\n",
    "import pandas as pd\n",
    "import numpy as np\n",
    "import json\n",
    "from pandas.io.json import json_normalize"
   ]
  },
  {
   "cell_type": "code",
   "execution_count": 43,
   "metadata": {
    "collapsed": true
   },
   "outputs": [],
   "source": [
    "def getIUCNbyName(api,sciName):\n",
    "    token = '8a5016b7dba22be695228e3fb36f432779b64186e2385798ae9469ad2afd7443'\n",
    "    url='http://apiv3.iucnredlist.org/api/v3/{}{}?token={}'.format(api,sciName,token)\n",
    "    try:\n",
    "        resp = requests.get(url)\n",
    "        data = json.loads(resp.text)\n",
    "        data_norm = json_normalize(data['result'])\n",
    "        return data_norm\n",
    "    except:\n",
    "        return 'NE'\n",
    "class Animal(object):\n",
    "    def __init__(self,sciName):\n",
    "        self.sciName = sciName\n",
    "    def Species(self):\n",
    "        return getIUCNbyName('species/',self.sciName)\n",
    "    def Habitats(self):\n",
    "        return getIUCNbyName('habitats/species/name/',self.sciName)\n",
    "    def Threats(self):\n",
    "        return getIUCNbyName('threats/species/name/',self.sciName)\n",
    "    def Conservation(self):\n",
    "        return getIUCNbyName('measures/species/name/',self.sciName)"
   ]
  },
  {
   "cell_type": "markdown",
   "metadata": {},
   "source": [
    "### Part2 Test"
   ]
  },
  {
   "cell_type": "code",
   "execution_count": 35,
   "metadata": {
    "collapsed": false,
    "scrolled": true
   },
   "outputs": [],
   "source": [
    "a = Animal('Mauremys reevesii')"
   ]
  },
  {
   "cell_type": "code",
   "execution_count": 37,
   "metadata": {
    "collapsed": false,
    "scrolled": true
   },
   "outputs": [
    {
     "name": "stdout",
     "output_type": "stream",
     "text": [
      "0     15.1\n",
      "1     15.2\n",
      "2     15.3\n",
      "3     15.7\n",
      "4     15.8\n",
      "5     15.9\n",
      "6      5.4\n",
      "7      5.6\n",
      "8      5.7\n",
      "9      5.8\n",
      "10     5.9\n",
      "Name: code, dtype: object\n"
     ]
    }
   ],
   "source": [
    "print(a.Habitats()['code'])"
   ]
  },
  {
   "cell_type": "code",
   "execution_count": 46,
   "metadata": {
    "collapsed": false
   },
   "outputs": [
    {
     "data": {
      "text/plain": [
       "'NE'"
      ]
     },
     "execution_count": 46,
     "metadata": {},
     "output_type": "execute_result"
    }
   ],
   "source": [
    "Animal('test test').Species()"
   ]
  },
  {
   "cell_type": "code",
   "execution_count": 8,
   "metadata": {
    "collapsed": false
   },
   "outputs": [
    {
     "name": "stdout",
     "output_type": "stream",
     "text": [
      "http://apiv3.iucnredlist.org/api/v3/country/getspecies/CN?token=8a5016b7dba22be695228e3fb36f432779b64186e2385798ae9469ad2afd7443\n"
     ]
    }
   ],
   "source": [
    "CN_SpeciesList=getIUCNbyName('country/getspecies/','CN')\n",
    "CN_SpeciesList.to_csv('CN_SpeciesList.csv')"
   ]
  },
  {
   "cell_type": "code",
   "execution_count": 55,
   "metadata": {
    "collapsed": true
   },
   "outputs": [],
   "source": [
    "sp_list = ['TEST','Abies chensiensis','Mauremys reevesii','Andrias davidianus','Nomascus leucogenys'] #秦岭冷杉/草龟/大鲵"
   ]
  },
  {
   "cell_type": "code",
   "execution_count": 57,
   "metadata": {
    "collapsed": false
   },
   "outputs": [
    {
     "name": "stdout",
     "output_type": "stream",
     "text": [
      "NE\n",
      "  code             habitat majorimportance season suitability\n",
      "0  1.4  Forest - Temperate             Yes   None    Suitable\n",
      "    code                                            habitat majorimportance  \\\n",
      "0   15.1  Artificial/Aquatic - Water Storage Areas (over...            None   \n",
      "1   15.2             Artificial/Aquatic - Ponds (below 8ha)            None   \n",
      "2   15.3             Artificial/Aquatic - Aquaculture Ponds            None   \n",
      "3   15.7  Artificial/Aquatic - Irrigated Land (includes ...            None   \n",
      "4   15.8  Artificial/Aquatic - Seasonally Flooded Agricu...            None   \n",
      "5   15.9  Artificial/Aquatic - Canals and Drainage Chann...            None   \n",
      "6    5.4  Wetlands (inland) - Bogs, Marshes, Swamps, Fen...            None   \n",
      "7    5.6  Wetlands (inland) - Seasonal/Intermittent Fres...            None   \n",
      "8    5.7  Wetlands (inland) - Permanent Freshwater Marsh...            None   \n",
      "9    5.8  Wetlands (inland) - Seasonal/Intermittent Fres...            None   \n",
      "10   5.9   Wetlands (inland) - Freshwater Springs and Oases            None   \n",
      "\n",
      "   season suitability  \n",
      "0    None    Marginal  \n",
      "1    None    Marginal  \n",
      "2    None    Marginal  \n",
      "3    None    Marginal  \n",
      "4    None    Marginal  \n",
      "5    None    Marginal  \n",
      "6    None    Suitable  \n",
      "7    None    Suitable  \n",
      "8    None    Suitable  \n",
      "9    None    Suitable  \n",
      "10   None    Suitable  \n",
      "  code                                            habitat majorimportance  \\\n",
      "0  1.4                                 Forest - Temperate            None   \n",
      "1  1.6        Forest - Subtropical/Tropical Moist Lowland            None   \n",
      "2  1.9        Forest - Subtropical/Tropical Moist Montane            None   \n",
      "3  5.1  Wetlands (inland) - Permanent Rivers/Streams/C...            None   \n",
      "\n",
      "  season suitability  \n",
      "0   None    Suitable  \n",
      "1   None    Suitable  \n",
      "2   None    Suitable  \n",
      "3   None    Suitable  \n",
      "  code                                      habitat majorimportance season  \\\n",
      "0  1.6  Forest - Subtropical/Tropical Moist Lowland             Yes   None   \n",
      "1  1.9  Forest - Subtropical/Tropical Moist Montane             Yes   None   \n",
      "\n",
      "  suitability  \n",
      "0    Suitable  \n",
      "1    Suitable  \n"
     ]
    }
   ],
   "source": [
    "for li in sp_list:\n",
    "    print(Animal(li).Habitats())"
   ]
  },
  {
   "cell_type": "code",
   "execution_count": 7,
   "metadata": {
    "collapsed": true
   },
   "outputs": [],
   "source": [
    "sp_list_pingguo = ['Parabramis pekinensis',\n",
    "'Ctenopharyngodon idellus',\n",
    "'Manis pentadactyla',\n",
    "'Paguma larvata',\n",
    "'Gekko gecko',\n",
    "'Marmota bobak',\n",
    "'Trachypithecus francoisi',\n",
    "'Centropus sinensis',\n",
    "'Oecophylla smaragdina',\n",
    "'Monopterus albus',\n",
    "'Carassius auratus',\n",
    "'Ptychidio jordani',\n",
    "'Cyprinus carpio',\n",
    "'Hypophthalmichthys molitrix',\n",
    "'Moschus berezovskii',\n",
    "'Calotes versicolor',\n",
    "'Python molurus',\n",
    "'Bubo zeylonensis',\n",
    "'Semilabeo notabilis',\n",
    "'Spinibarbus denticulatus',\n",
    "'Palea steindachneri',\n",
    "'Sus scrofa',\n",
    "'Clarias fuscus',\n",
    "'Rana rugulosa',\n",
    "'Cygnus columbianus',\n",
    "'Cuon alpinus',\n",
    "'Phasianus colchicus',\n",
    "'Aristichthys nobilis ',\n",
    "'Francolinus pintadeanus']"
   ]
  }
 ],
 "metadata": {
  "kernelspec": {
   "display_name": "Python 3",
   "language": "python",
   "name": "python3"
  },
  "language_info": {
   "codemirror_mode": {
    "name": "ipython",
    "version": 3
   },
   "file_extension": ".py",
   "mimetype": "text/x-python",
   "name": "python",
   "nbconvert_exporter": "python",
   "pygments_lexer": "ipython3",
   "version": "3.6.0"
  }
 },
 "nbformat": 4,
 "nbformat_minor": 2
}
