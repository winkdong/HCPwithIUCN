{
 "cells": [
  {
   "cell_type": "code",
   "execution_count": 1,
   "metadata": {
    "collapsed": true
   },
   "outputs": [],
   "source": [
    "import requests\n",
    "import pandas as pd\n",
    "import numpy as np\n",
    "import json\n",
    "from pandas.io.json import json_normalize"
   ]
  },
  {
   "cell_type": "code",
   "execution_count": null,
   "metadata": {
    "collapsed": true
   },
   "outputs": [],
   "source": [
    "# Your token has been generated and is found below:\n",
    "# Token: 8a5016b7dba22be695228e3fb36f432779b64186e2385798ae9469ad2afd7443\n",
    "# Date created on:Wed Apr 26 2017 08:31:58 GMT+0000 (UTC)\n",
    "\n",
    "# df = pd.read_json(url) # only when the json is flatten"
   ]
  },
  {
   "cell_type": "code",
   "execution_count": null,
   "metadata": {
    "collapsed": true
   },
   "outputs": [],
   "source": [
    "mytoken = '8a5016b7dba22be695228e3fb36f432779b64186e2385798ae9469ad2afd7443'\n",
    "class Animal:\n",
    "    def __init__(self,sciName):\n",
    "        self.sciName = sciName\n",
    "    def Result(api):\n",
    "        url='http://apiv3.iucnredlist.org{}?token={}'.format(api,mytoken)\n",
    "        resp = requests.get(url)\n",
    "        data = json.loads(resp.text)\n",
    "        data_norm = json_normalize(data['result'])\n",
    "        return data_norm\n",
    "    def Species():\n",
    "        api = '/api/v3/species/{}?'.format(self.sciName)\n",
    "        return Result(api)\n",
    "    def Habitats():\n",
    "        api = '/api/v3/habitats/species/name/{}?'.format(self.sciName)\n",
    "        return Result(api)\n",
    "    def Threats():\n",
    "        api = '/api/v3/threats/species/name/{}?'.format(self.sciName)\n",
    "        return Result(api)\n",
    "    def Conservation():\n",
    "        api = '/api/v3/measures/species/name/{}?'.format(self.sciName)\n",
    "        return Result(api)\n",
    "        "
   ]
  },
  {
   "cell_type": "code",
   "execution_count": 2,
   "metadata": {
    "collapsed": true
   },
   "outputs": [],
   "source": [
    "def get_iucns(need):\n",
    "    mytoken='8a5016b7dba22be695228e3fb36f432779b64186e2385798ae9469ad2afd7443'\n",
    "    url = 'http://apiv3.iucnredlist.org{}token={}'.format(need,mytoken)\n",
    "    resp = requests.get(url)\n",
    "    data = json.loads(resp.text)\n",
    "    data_norm = json_normalize(data['results'])\n",
    "    df = pd.DataFrame(data_norm)\n",
    "    print(url)\n",
    "    return df"
   ]
  },
  {
   "cell_type": "code",
   "execution_count": null,
   "metadata": {
    "collapsed": true
   },
   "outputs": [],
   "source": [
    "get_iucns('/api/v3/country/list?')"
   ]
  },
  {
   "cell_type": "code",
   "execution_count": 32,
   "metadata": {
    "collapsed": true
   },
   "outputs": [],
   "source": [
    "def testIfInIUCN(li_spec):\n",
    "    mytoken='8a5016b7dba22be695228e3fb36f432779b64186e2385798ae9469ad2afd7443'\n",
    "    new_li = []\n",
    "    for item in li_spec:\n",
    "        url = 'http://apiv3.iucnredlist.org{}token={}'.format(item,mytoken)\n",
    "        try:\n",
    "            resp = requests.get(url)\n",
    "            data = json.loads(resp.text)\n",
    "            data_norm = json_normalize(data['results'])\n",
    "            df = pd.DataFrame(data_norm)\n",
    "            return new_li.append(item)\n",
    "        except:\n",
    "            print(\"uuu\")"
   ]
  },
  {
   "cell_type": "raw",
   "metadata": {
    "collapsed": false
   },
   "source": [
    "testIfInIUCN(sp_list_pingguo)"
   ]
  },
  {
   "cell_type": "code",
   "execution_count": 2,
   "metadata": {
    "collapsed": false
   },
   "outputs": [],
   "source": [
    "def get_iucn(need):\n",
    "    mytoken='8a5016b7dba22be695228e3fb36f432779b64186e2385798ae9469ad2afd7443'\n",
    "#     demo_token='9bb4facb6d23f48efbf424bb05c0c1ef1cf6f468393bc745d42179ac4aca5fee'\n",
    "    url = 'http://apiv3.iucnredlist.org{}token={}'.format(need,mytoken)\n",
    "    try:\n",
    "        resp = requests.get(url)\n",
    "        data = json.loads(resp.text)\n",
    "        data_norm = json_normalize(data['result'])\n",
    "        df = pd.DataFrame(data_norm)\n",
    "        print(url)\n",
    "        return df\n",
    "    except:\n",
    "        pd.DataFrame()"
   ]
  },
  {
   "cell_type": "code",
   "execution_count": 3,
   "metadata": {
    "collapsed": false
   },
   "outputs": [
    {
     "name": "stdout",
     "output_type": "stream",
     "text": [
      "http://apiv3.iucnredlist.org/api/v3/region/list?token=8a5016b7dba22be695228e3fb36f432779b64186e2385798ae9469ad2afd7443\n"
     ]
    },
    {
     "data": {
      "text/html": [
       "<div>\n",
       "<table border=\"1\" class=\"dataframe\">\n",
       "  <thead>\n",
       "    <tr style=\"text-align: right;\">\n",
       "      <th></th>\n",
       "      <th>identifier</th>\n",
       "      <th>name</th>\n",
       "    </tr>\n",
       "  </thead>\n",
       "  <tbody>\n",
       "    <tr>\n",
       "      <th>0</th>\n",
       "      <td>northern_africa</td>\n",
       "      <td>Northern Africa</td>\n",
       "    </tr>\n",
       "    <tr>\n",
       "      <th>1</th>\n",
       "      <td>eastern_africa</td>\n",
       "      <td>Eastern Africa</td>\n",
       "    </tr>\n",
       "    <tr>\n",
       "      <th>2</th>\n",
       "      <td>persian_gulf</td>\n",
       "      <td>Persian Gulf</td>\n",
       "    </tr>\n",
       "    <tr>\n",
       "      <th>3</th>\n",
       "      <td>europe</td>\n",
       "      <td>Europe</td>\n",
       "    </tr>\n",
       "    <tr>\n",
       "      <th>4</th>\n",
       "      <td>southern_africa</td>\n",
       "      <td>Southern Africa</td>\n",
       "    </tr>\n",
       "    <tr>\n",
       "      <th>5</th>\n",
       "      <td>mediterranean</td>\n",
       "      <td>Mediterranean</td>\n",
       "    </tr>\n",
       "    <tr>\n",
       "      <th>6</th>\n",
       "      <td>western_africa</td>\n",
       "      <td>Western Africa</td>\n",
       "    </tr>\n",
       "    <tr>\n",
       "      <th>7</th>\n",
       "      <td>central_africa</td>\n",
       "      <td>Central Africa</td>\n",
       "    </tr>\n",
       "    <tr>\n",
       "      <th>8</th>\n",
       "      <td>global</td>\n",
       "      <td>Global</td>\n",
       "    </tr>\n",
       "    <tr>\n",
       "      <th>9</th>\n",
       "      <td>gulf_of_mexico</td>\n",
       "      <td>Gulf of Mexico</td>\n",
       "    </tr>\n",
       "    <tr>\n",
       "      <th>10</th>\n",
       "      <td>pan-africa</td>\n",
       "      <td>Pan-Africa</td>\n",
       "    </tr>\n",
       "    <tr>\n",
       "      <th>11</th>\n",
       "      <td>northeastern_africa</td>\n",
       "      <td>Northeastern Africa</td>\n",
       "    </tr>\n",
       "  </tbody>\n",
       "</table>\n",
       "</div>"
      ],
      "text/plain": [
       "             identifier                 name\n",
       "0       northern_africa      Northern Africa\n",
       "1        eastern_africa       Eastern Africa\n",
       "2          persian_gulf         Persian Gulf\n",
       "3                europe               Europe\n",
       "4       southern_africa      Southern Africa\n",
       "5         mediterranean        Mediterranean\n",
       "6        western_africa       Western Africa\n",
       "7        central_africa       Central Africa\n",
       "8                global               Global\n",
       "9        gulf_of_mexico       Gulf of Mexico\n",
       "10           pan-africa           Pan-Africa\n",
       "11  northeastern_africa  Northeastern Africa"
      ]
     },
     "execution_count": 3,
     "metadata": {},
     "output_type": "execute_result"
    }
   ],
   "source": [
    "get_iucns('/api/v3/region/list?')\n",
    "# d1.keys()"
   ]
  },
  {
   "cell_type": "code",
   "execution_count": 8,
   "metadata": {
    "collapsed": false
   },
   "outputs": [
    {
     "name": "stdout",
     "output_type": "stream",
     "text": [
      "http://apiv3.iucnredlist.org/api/v3/country/getspecies/CN?token=8a5016b7dba22be695228e3fb36f432779b64186e2385798ae9469ad2afd7443\n"
     ]
    }
   ],
   "source": [
    "CN_SpeciesList=get_iucn('/api/v3/country/getspecies/CN?')\n",
    "CN_SpeciesList.to_csv('CN_SpeciesList.csv')"
   ]
  },
  {
   "cell_type": "code",
   "execution_count": 16,
   "metadata": {
    "collapsed": false
   },
   "outputs": [
    {
     "name": "stdout",
     "output_type": "stream",
     "text": [
      "http://apiv3.iucnredlist.org/api/v3/habitats/species/name/Mauremys reevesii?token=8a5016b7dba22be695228e3fb36f432779b64186e2385798ae9469ad2afd7443\n"
     ]
    },
    {
     "data": {
      "text/html": [
       "<div>\n",
       "<table border=\"1\" class=\"dataframe\">\n",
       "  <thead>\n",
       "    <tr style=\"text-align: right;\">\n",
       "      <th></th>\n",
       "      <th>code</th>\n",
       "      <th>habitat</th>\n",
       "      <th>majorimportance</th>\n",
       "      <th>season</th>\n",
       "      <th>suitability</th>\n",
       "    </tr>\n",
       "  </thead>\n",
       "  <tbody>\n",
       "    <tr>\n",
       "      <th>0</th>\n",
       "      <td>15.1</td>\n",
       "      <td>Artificial/Aquatic - Water Storage Areas (over...</td>\n",
       "      <td>None</td>\n",
       "      <td>None</td>\n",
       "      <td>Marginal</td>\n",
       "    </tr>\n",
       "    <tr>\n",
       "      <th>1</th>\n",
       "      <td>15.2</td>\n",
       "      <td>Artificial/Aquatic - Ponds (below 8ha)</td>\n",
       "      <td>None</td>\n",
       "      <td>None</td>\n",
       "      <td>Marginal</td>\n",
       "    </tr>\n",
       "    <tr>\n",
       "      <th>2</th>\n",
       "      <td>15.3</td>\n",
       "      <td>Artificial/Aquatic - Aquaculture Ponds</td>\n",
       "      <td>None</td>\n",
       "      <td>None</td>\n",
       "      <td>Marginal</td>\n",
       "    </tr>\n",
       "    <tr>\n",
       "      <th>3</th>\n",
       "      <td>15.7</td>\n",
       "      <td>Artificial/Aquatic - Irrigated Land (includes ...</td>\n",
       "      <td>None</td>\n",
       "      <td>None</td>\n",
       "      <td>Marginal</td>\n",
       "    </tr>\n",
       "    <tr>\n",
       "      <th>4</th>\n",
       "      <td>15.8</td>\n",
       "      <td>Artificial/Aquatic - Seasonally Flooded Agricu...</td>\n",
       "      <td>None</td>\n",
       "      <td>None</td>\n",
       "      <td>Marginal</td>\n",
       "    </tr>\n",
       "    <tr>\n",
       "      <th>5</th>\n",
       "      <td>15.9</td>\n",
       "      <td>Artificial/Aquatic - Canals and Drainage Chann...</td>\n",
       "      <td>None</td>\n",
       "      <td>None</td>\n",
       "      <td>Marginal</td>\n",
       "    </tr>\n",
       "    <tr>\n",
       "      <th>6</th>\n",
       "      <td>5.4</td>\n",
       "      <td>Wetlands (inland) - Bogs, Marshes, Swamps, Fen...</td>\n",
       "      <td>None</td>\n",
       "      <td>None</td>\n",
       "      <td>Suitable</td>\n",
       "    </tr>\n",
       "    <tr>\n",
       "      <th>7</th>\n",
       "      <td>5.6</td>\n",
       "      <td>Wetlands (inland) - Seasonal/Intermittent Fres...</td>\n",
       "      <td>None</td>\n",
       "      <td>None</td>\n",
       "      <td>Suitable</td>\n",
       "    </tr>\n",
       "    <tr>\n",
       "      <th>8</th>\n",
       "      <td>5.7</td>\n",
       "      <td>Wetlands (inland) - Permanent Freshwater Marsh...</td>\n",
       "      <td>None</td>\n",
       "      <td>None</td>\n",
       "      <td>Suitable</td>\n",
       "    </tr>\n",
       "    <tr>\n",
       "      <th>9</th>\n",
       "      <td>5.8</td>\n",
       "      <td>Wetlands (inland) - Seasonal/Intermittent Fres...</td>\n",
       "      <td>None</td>\n",
       "      <td>None</td>\n",
       "      <td>Suitable</td>\n",
       "    </tr>\n",
       "    <tr>\n",
       "      <th>10</th>\n",
       "      <td>5.9</td>\n",
       "      <td>Wetlands (inland) - Freshwater Springs and Oases</td>\n",
       "      <td>None</td>\n",
       "      <td>None</td>\n",
       "      <td>Suitable</td>\n",
       "    </tr>\n",
       "  </tbody>\n",
       "</table>\n",
       "</div>"
      ],
      "text/plain": [
       "    code                                            habitat majorimportance  \\\n",
       "0   15.1  Artificial/Aquatic - Water Storage Areas (over...            None   \n",
       "1   15.2             Artificial/Aquatic - Ponds (below 8ha)            None   \n",
       "2   15.3             Artificial/Aquatic - Aquaculture Ponds            None   \n",
       "3   15.7  Artificial/Aquatic - Irrigated Land (includes ...            None   \n",
       "4   15.8  Artificial/Aquatic - Seasonally Flooded Agricu...            None   \n",
       "5   15.9  Artificial/Aquatic - Canals and Drainage Chann...            None   \n",
       "6    5.4  Wetlands (inland) - Bogs, Marshes, Swamps, Fen...            None   \n",
       "7    5.6  Wetlands (inland) - Seasonal/Intermittent Fres...            None   \n",
       "8    5.7  Wetlands (inland) - Permanent Freshwater Marsh...            None   \n",
       "9    5.8  Wetlands (inland) - Seasonal/Intermittent Fres...            None   \n",
       "10   5.9   Wetlands (inland) - Freshwater Springs and Oases            None   \n",
       "\n",
       "   season suitability  \n",
       "0    None    Marginal  \n",
       "1    None    Marginal  \n",
       "2    None    Marginal  \n",
       "3    None    Marginal  \n",
       "4    None    Marginal  \n",
       "5    None    Marginal  \n",
       "6    None    Suitable  \n",
       "7    None    Suitable  \n",
       "8    None    Suitable  \n",
       "9    None    Suitable  \n",
       "10   None    Suitable  "
      ]
     },
     "execution_count": 16,
     "metadata": {},
     "output_type": "execute_result"
    }
   ],
   "source": [
    "get_iucn('/api/v3/habitats/species/name/Mauremys reevesii?') # 获取草龟栖息地类型"
   ]
  },
  {
   "cell_type": "code",
   "execution_count": 3,
   "metadata": {
    "collapsed": false
   },
   "outputs": [
    {
     "name": "stdout",
     "output_type": "stream",
     "text": [
      "http://apiv3.iucnredlist.org/api/v3/habitats/species/name/Python bivittatus?token=8a5016b7dba22be695228e3fb36f432779b64186e2385798ae9469ad2afd7443\n"
     ]
    },
    {
     "data": {
      "text/html": [
       "<div>\n",
       "<table border=\"1\" class=\"dataframe\">\n",
       "  <thead>\n",
       "    <tr style=\"text-align: right;\">\n",
       "      <th></th>\n",
       "      <th>code</th>\n",
       "      <th>habitat</th>\n",
       "      <th>majorimportance</th>\n",
       "      <th>season</th>\n",
       "      <th>suitability</th>\n",
       "    </tr>\n",
       "  </thead>\n",
       "  <tbody>\n",
       "    <tr>\n",
       "      <th>0</th>\n",
       "      <td>1.5</td>\n",
       "      <td>Forest - Subtropical/Tropical Dry</td>\n",
       "      <td>Yes</td>\n",
       "      <td>None</td>\n",
       "      <td>Suitable</td>\n",
       "    </tr>\n",
       "    <tr>\n",
       "      <th>1</th>\n",
       "      <td>1.7</td>\n",
       "      <td>Forest - Subtropical/Tropical Mangrove Vegetat...</td>\n",
       "      <td>Yes</td>\n",
       "      <td>None</td>\n",
       "      <td>Suitable</td>\n",
       "    </tr>\n",
       "    <tr>\n",
       "      <th>2</th>\n",
       "      <td>1.8</td>\n",
       "      <td>Forest - Subtropical/Tropical Swamp</td>\n",
       "      <td>Yes</td>\n",
       "      <td>None</td>\n",
       "      <td>Suitable</td>\n",
       "    </tr>\n",
       "    <tr>\n",
       "      <th>3</th>\n",
       "      <td>1.9</td>\n",
       "      <td>Forest - Subtropical/Tropical Moist Montane</td>\n",
       "      <td>Yes</td>\n",
       "      <td>None</td>\n",
       "      <td>Suitable</td>\n",
       "    </tr>\n",
       "    <tr>\n",
       "      <th>4</th>\n",
       "      <td>4.5</td>\n",
       "      <td>Grassland - Subtropical/Tropical Dry</td>\n",
       "      <td>Yes</td>\n",
       "      <td>None</td>\n",
       "      <td>Suitable</td>\n",
       "    </tr>\n",
       "    <tr>\n",
       "      <th>5</th>\n",
       "      <td>5.1</td>\n",
       "      <td>Wetlands (inland) - Permanent Rivers/Streams/C...</td>\n",
       "      <td>Yes</td>\n",
       "      <td>None</td>\n",
       "      <td>Suitable</td>\n",
       "    </tr>\n",
       "    <tr>\n",
       "      <th>6</th>\n",
       "      <td>5.7</td>\n",
       "      <td>Wetlands (inland) - Permanent Freshwater Marsh...</td>\n",
       "      <td>Yes</td>\n",
       "      <td>None</td>\n",
       "      <td>Suitable</td>\n",
       "    </tr>\n",
       "    <tr>\n",
       "      <th>7</th>\n",
       "      <td>7.1</td>\n",
       "      <td>Caves and Subterranean Habitats (non-aquatic) ...</td>\n",
       "      <td>Yes</td>\n",
       "      <td>None</td>\n",
       "      <td>Suitable</td>\n",
       "    </tr>\n",
       "    <tr>\n",
       "      <th>8</th>\n",
       "      <td>8.1</td>\n",
       "      <td>Desert - Hot</td>\n",
       "      <td>Yes</td>\n",
       "      <td>None</td>\n",
       "      <td>Suitable</td>\n",
       "    </tr>\n",
       "  </tbody>\n",
       "</table>\n",
       "</div>"
      ],
      "text/plain": [
       "  code                                            habitat majorimportance  \\\n",
       "0  1.5                  Forest - Subtropical/Tropical Dry             Yes   \n",
       "1  1.7  Forest - Subtropical/Tropical Mangrove Vegetat...             Yes   \n",
       "2  1.8                Forest - Subtropical/Tropical Swamp             Yes   \n",
       "3  1.9        Forest - Subtropical/Tropical Moist Montane             Yes   \n",
       "4  4.5               Grassland - Subtropical/Tropical Dry             Yes   \n",
       "5  5.1  Wetlands (inland) - Permanent Rivers/Streams/C...             Yes   \n",
       "6  5.7  Wetlands (inland) - Permanent Freshwater Marsh...             Yes   \n",
       "7  7.1  Caves and Subterranean Habitats (non-aquatic) ...             Yes   \n",
       "8  8.1                                       Desert - Hot             Yes   \n",
       "\n",
       "  season suitability  \n",
       "0   None    Suitable  \n",
       "1   None    Suitable  \n",
       "2   None    Suitable  \n",
       "3   None    Suitable  \n",
       "4   None    Suitable  \n",
       "5   None    Suitable  \n",
       "6   None    Suitable  \n",
       "7   None    Suitable  \n",
       "8   None    Suitable  "
      ]
     },
     "execution_count": 3,
     "metadata": {},
     "output_type": "execute_result"
    }
   ],
   "source": [
    "get_iucn('/api/v3/habitats/species/name/Python bivittatus?')"
   ]
  },
  {
   "cell_type": "code",
   "execution_count": 67,
   "metadata": {
    "collapsed": true
   },
   "outputs": [],
   "source": [
    "sp_list = ['Abies chensiensis','Mauremys reevesii','Andrias davidianus','Nomascus leucogenys'] #秦岭冷杉/草龟/大鲵"
   ]
  },
  {
   "cell_type": "code",
   "execution_count": 7,
   "metadata": {
    "collapsed": true
   },
   "outputs": [],
   "source": [
    "sp_list_pingguo = ['Parabramis pekinensis',\n",
    "'Ctenopharyngodon idellus',\n",
    "'Manis pentadactyla',\n",
    "'Paguma larvata',\n",
    "'Gekko gecko',\n",
    "'Marmota bobak',\n",
    "'Trachypithecus francoisi',\n",
    "'Centropus sinensis',\n",
    "'Oecophylla smaragdina',\n",
    "'Monopterus albus',\n",
    "'Carassius auratus',\n",
    "'Ptychidio jordani',\n",
    "'Cyprinus carpio',\n",
    "'Hypophthalmichthys molitrix',\n",
    "'Moschus berezovskii',\n",
    "'Calotes versicolor',\n",
    "'Python molurus',\n",
    "'Bubo zeylonensis',\n",
    "'Semilabeo notabilis',\n",
    "'Spinibarbus denticulatus',\n",
    "'Palea steindachneri',\n",
    "'Sus scrofa',\n",
    "'Clarias fuscus',\n",
    "'Rana rugulosa',\n",
    "'Cygnus columbianus',\n",
    "'Cuon alpinus',\n",
    "'Phasianus colchicus',\n",
    "'Aristichthys nobilis ',\n",
    "'Francolinus pintadeanus']"
   ]
  },
  {
   "cell_type": "code",
   "execution_count": 4,
   "metadata": {
    "collapsed": false
   },
   "outputs": [],
   "source": [
    "def get_habitat(specie):\n",
    "    try:\n",
    "        df = get_iucn('/api/v3/habitats/species/name/{}?'.format(specie)) #md漏写了一个问号。。老报result错\n",
    "        df['species_name']=specie\n",
    "        return df\n",
    "    except:\n",
    "        pass\n",
    "def get_habitat_list(sp_li):\n",
    "    li=[]\n",
    "    for i in range(len(sp_li)):\n",
    "        try:\n",
    "            specie = sp_li[i]\n",
    "            li.append(get_habitat(specie))      \n",
    "            return pd.concat(li)\n",
    "        except:\n",
    "            continue"
   ]
  },
  {
   "cell_type": "code",
   "execution_count": 56,
   "metadata": {
    "collapsed": false
   },
   "outputs": [
    {
     "name": "stdout",
     "output_type": "stream",
     "text": [
      "http://apiv3.iucnredlist.org/api/v3/habitats/species/name/Francolinus pintadeanus?token=8a5016b7dba22be695228e3fb36f432779b64186e2385798ae9469ad2afd7443\n"
     ]
    },
    {
     "data": {
      "text/html": [
       "<div>\n",
       "<table border=\"1\" class=\"dataframe\">\n",
       "  <thead>\n",
       "    <tr style=\"text-align: right;\">\n",
       "      <th></th>\n",
       "      <th>code</th>\n",
       "      <th>habitat</th>\n",
       "      <th>majorimportance</th>\n",
       "      <th>season</th>\n",
       "      <th>suitability</th>\n",
       "      <th>species_name</th>\n",
       "    </tr>\n",
       "  </thead>\n",
       "  <tbody>\n",
       "    <tr>\n",
       "      <th>0</th>\n",
       "      <td>14.1</td>\n",
       "      <td>Artificial/Terrestrial - Arable Land</td>\n",
       "      <td>No</td>\n",
       "      <td>resident</td>\n",
       "      <td>Suitable</td>\n",
       "      <td>Francolinus pintadeanus</td>\n",
       "    </tr>\n",
       "    <tr>\n",
       "      <th>1</th>\n",
       "      <td>1.5</td>\n",
       "      <td>Forest - Subtropical/Tropical Dry</td>\n",
       "      <td>No</td>\n",
       "      <td>resident</td>\n",
       "      <td>Suitable</td>\n",
       "      <td>Francolinus pintadeanus</td>\n",
       "    </tr>\n",
       "    <tr>\n",
       "      <th>2</th>\n",
       "      <td>1.6</td>\n",
       "      <td>Forest - Subtropical/Tropical Moist Lowland</td>\n",
       "      <td>No</td>\n",
       "      <td>resident</td>\n",
       "      <td>Suitable</td>\n",
       "      <td>Francolinus pintadeanus</td>\n",
       "    </tr>\n",
       "    <tr>\n",
       "      <th>3</th>\n",
       "      <td>3.5</td>\n",
       "      <td>Shrubland - Subtropical/Tropical Dry</td>\n",
       "      <td>No</td>\n",
       "      <td>resident</td>\n",
       "      <td>Suitable</td>\n",
       "      <td>Francolinus pintadeanus</td>\n",
       "    </tr>\n",
       "    <tr>\n",
       "      <th>4</th>\n",
       "      <td>4.5</td>\n",
       "      <td>Grassland - Subtropical/Tropical Dry</td>\n",
       "      <td>No</td>\n",
       "      <td>resident</td>\n",
       "      <td>Suitable</td>\n",
       "      <td>Francolinus pintadeanus</td>\n",
       "    </tr>\n",
       "  </tbody>\n",
       "</table>\n",
       "</div>"
      ],
      "text/plain": [
       "   code                                      habitat majorimportance  \\\n",
       "0  14.1         Artificial/Terrestrial - Arable Land              No   \n",
       "1   1.5            Forest - Subtropical/Tropical Dry              No   \n",
       "2   1.6  Forest - Subtropical/Tropical Moist Lowland              No   \n",
       "3   3.5         Shrubland - Subtropical/Tropical Dry              No   \n",
       "4   4.5         Grassland - Subtropical/Tropical Dry              No   \n",
       "\n",
       "     season suitability             species_name  \n",
       "0  resident    Suitable  Francolinus pintadeanus  \n",
       "1  resident    Suitable  Francolinus pintadeanus  \n",
       "2  resident    Suitable  Francolinus pintadeanus  \n",
       "3  resident    Suitable  Francolinus pintadeanus  \n",
       "4  resident    Suitable  Francolinus pintadeanus  "
      ]
     },
     "execution_count": 56,
     "metadata": {},
     "output_type": "execute_result"
    }
   ],
   "source": [
    "get_habitat(\"Francolinus pintadeanus\")"
   ]
  },
  {
   "cell_type": "code",
   "execution_count": 5,
   "metadata": {
    "collapsed": false
   },
   "outputs": [],
   "source": [
    "get_habitat_list('Parabramis pekinensis')"
   ]
  },
  {
   "cell_type": "raw",
   "metadata": {
    "collapsed": false,
    "scrolled": true
   },
   "source": [
    "get_habitat_list(sp_list)"
   ]
  },
  {
   "cell_type": "raw",
   "metadata": {
    "collapsed": false
   },
   "source": [
    "get_habitat_list(sp_list_pingguo)"
   ]
  }
 ],
 "metadata": {
  "kernelspec": {
   "display_name": "Python 3",
   "language": "python",
   "name": "python3"
  },
  "language_info": {
   "codemirror_mode": {
    "name": "ipython",
    "version": 3
   },
   "file_extension": ".py",
   "mimetype": "text/x-python",
   "name": "python",
   "nbconvert_exporter": "python",
   "pygments_lexer": "ipython3",
   "version": "3.6.0"
  }
 },
 "nbformat": 4,
 "nbformat_minor": 2
}
